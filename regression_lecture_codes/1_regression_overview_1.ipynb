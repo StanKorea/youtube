{
 "cells": [
  {
   "cell_type": "markdown",
   "metadata": {},
   "source": [
    "# __1-1. Regression Overview: Introduction__"
   ]
  },
  {
   "cell_type": "markdown",
   "metadata": {},
   "source": [
    "## __1.강의를 듣기 위해 필요한 선행지식__\n",
    "1) 기본 미적분 지식 <br>\n",
    "2) 기본 통계학 지식 <br>\n",
    "3) 기본 선형대수학 지식 <br>\n",
    "4) 어느정도의 파이썬 실력 <br>"
   ]
  },
  {
   "cell_type": "markdown",
   "metadata": {},
   "source": [
    "## __2.회귀란 무엇인가?__\n",
    "데이터가 주어진 상황에서, Dependent Variable 이라고 불리는 변수 $Y$와 해당 변수를 제외한 나머지 변수 Independent Variables $X$ 사이의 관계를 추정하는 기법 중 하나이다. <br><br>\n",
    "좀 더 자세하게 보자.<br><br>\n",
    "$N$개의 데이터가 주어졌고, $i$번째 데이터는 $n$차원 벡터 $X_i$와 스칼라 $Y_i$로 구성된 $(X_i,Y_i)$의 쌍으로 나타낼 수 있다고 하자. 즉, 데이터셋은 $S=\\{(X_i,Y_i): i=1,2,...,N\\}$로 표현 가능하다. <br> 회귀분석은 이렇게 데이터셋이 주어진 경우 Dependent Variable $Y_i$와 Independent Variable $X_i$의 관계를 알아내는 것을 목표로 한다. 관계를 알아낸다는 것은 두 변수 사이의 함수 $Y_i = f(X_i, \\beta) + e_i$ 를 추정하는 것을 의미한다. (이 식에 대한 자세한 설명은 나중에 다룬다.)"
   ]
  },
  {
   "cell_type": "code",
   "execution_count": 8,
   "metadata": {},
   "outputs": [
    {
     "data": {
      "text/html": [
       "<div>\n",
       "<style scoped>\n",
       "    .dataframe tbody tr th:only-of-type {\n",
       "        vertical-align: middle;\n",
       "    }\n",
       "\n",
       "    .dataframe tbody tr th {\n",
       "        vertical-align: top;\n",
       "    }\n",
       "\n",
       "    .dataframe thead th {\n",
       "        text-align: right;\n",
       "    }\n",
       "</style>\n",
       "<table border=\"1\" class=\"dataframe\">\n",
       "  <thead>\n",
       "    <tr style=\"text-align: right;\">\n",
       "      <th></th>\n",
       "      <th>OverallQual</th>\n",
       "      <th>OverallCond</th>\n",
       "      <th>TotalArea</th>\n",
       "      <th>Bedroom</th>\n",
       "      <th>Price</th>\n",
       "    </tr>\n",
       "  </thead>\n",
       "  <tbody>\n",
       "    <tr>\n",
       "      <th>0</th>\n",
       "      <td>7</td>\n",
       "      <td>9</td>\n",
       "      <td>143</td>\n",
       "      <td>4</td>\n",
       "      <td>500402</td>\n",
       "    </tr>\n",
       "    <tr>\n",
       "      <th>1</th>\n",
       "      <td>8</td>\n",
       "      <td>9</td>\n",
       "      <td>264</td>\n",
       "      <td>8</td>\n",
       "      <td>1204600</td>\n",
       "    </tr>\n",
       "    <tr>\n",
       "      <th>2</th>\n",
       "      <td>4</td>\n",
       "      <td>5</td>\n",
       "      <td>378</td>\n",
       "      <td>11</td>\n",
       "      <td>1385000</td>\n",
       "    </tr>\n",
       "    <tr>\n",
       "      <th>3</th>\n",
       "      <td>7</td>\n",
       "      <td>6</td>\n",
       "      <td>168</td>\n",
       "      <td>6</td>\n",
       "      <td>859000</td>\n",
       "    </tr>\n",
       "    <tr>\n",
       "      <th>4</th>\n",
       "      <td>6</td>\n",
       "      <td>8</td>\n",
       "      <td>155</td>\n",
       "      <td>5</td>\n",
       "      <td>615300</td>\n",
       "    </tr>\n",
       "    <tr>\n",
       "      <th>5</th>\n",
       "      <td>3</td>\n",
       "      <td>5</td>\n",
       "      <td>84</td>\n",
       "      <td>3</td>\n",
       "      <td>451000</td>\n",
       "    </tr>\n",
       "    <tr>\n",
       "      <th>6</th>\n",
       "      <td>9</td>\n",
       "      <td>6</td>\n",
       "      <td>275</td>\n",
       "      <td>8</td>\n",
       "      <td>980000</td>\n",
       "    </tr>\n",
       "    <tr>\n",
       "      <th>7</th>\n",
       "      <td>8</td>\n",
       "      <td>9</td>\n",
       "      <td>183</td>\n",
       "      <td>6</td>\n",
       "      <td>1040000</td>\n",
       "    </tr>\n",
       "    <tr>\n",
       "      <th>8</th>\n",
       "      <td>9</td>\n",
       "      <td>9</td>\n",
       "      <td>305</td>\n",
       "      <td>7</td>\n",
       "      <td>1462000</td>\n",
       "    </tr>\n",
       "    <tr>\n",
       "      <th>9</th>\n",
       "      <td>6</td>\n",
       "      <td>6</td>\n",
       "      <td>208</td>\n",
       "      <td>6</td>\n",
       "      <td>895300</td>\n",
       "    </tr>\n",
       "  </tbody>\n",
       "</table>\n",
       "</div>"
      ],
      "text/plain": [
       "   OverallQual  OverallCond  TotalArea  Bedroom    Price\n",
       "0            7            9        143        4   500402\n",
       "1            8            9        264        8  1204600\n",
       "2            4            5        378       11  1385000\n",
       "3            7            6        168        6   859000\n",
       "4            6            8        155        5   615300\n",
       "5            3            5         84        3   451000\n",
       "6            9            6        275        8   980000\n",
       "7            8            9        183        6  1040000\n",
       "8            9            9        305        7  1462000\n",
       "9            6            6        208        6   895300"
      ]
     },
     "execution_count": 8,
     "metadata": {},
     "output_type": "execute_result"
    }
   ],
   "source": [
    "import pandas as pd\n",
    "\n",
    "csv_sample = pd.read_csv('./1_regression_overview.csv')\n",
    "csv_sample"
   ]
  },
  {
   "cell_type": "markdown",
   "metadata": {},
   "source": [
    "예를 들어서, 위와 같이 집의 스펙과 가격에 대한 데이터가 주어졌을 때 여러 스펙들과 가격 사이의 관계를 알아내는 회귀분석의 경우 각각의 스펙과 가격이 선형적인 관계를 가지고 있다고 가정하면 아래와 같은 Linear Regression Model을 만들 수 있다. parameter $\\beta$ 들은 이후 여러 가지 fitting 방식을 통해 구하게된다.<br>\n",
    "\n",
    "##### $\\text{Price}_i = \\beta_1 (\\text{OveralQual}_i) \\ + \\ \\beta_2 (\\text{OveralCond}_i) \\ + \\beta_3 (\\text{TotalArea}_i) \\ + \\beta_4 (\\text{Bedroom}_i) \\ + e_i$\n",
    "\n",
    "회귀분석이 어떠한 과정으로 이루어지는지 간략하게 알아보자. 회귀분석은 '''데이터 수집 → 데이터 전처리 → 모델링(함수 형태 결정) → 모수 추정 → 추정 검정 → 해석 → 활용(prediction 등)'''의 과정으로 이루어진다. 보통의 통계학 수업에서 접하는 회귀는 추정과 추정의 검정에 초점을 맞추기 때문에 앞 뒤의 과정이 새롭게 느껴질 수 있다."
   ]
  },
  {
   "cell_type": "markdown",
   "metadata": {},
   "source": [
    "## 3. 여러가지 관점에서 본 회귀\n",
    "회귀분석은 여러가지 분야에서 사용되는 굉장히 일반적인 방법론이고, 그렇기에 회귀분석을 설명하는 방식도 다양하다. 각 분야에서 회귀를 어떻게 바라보는지 간단하게만 체크해보고자 한다.<br>\n",
    "(참고 : 최근에는 각 분야간 관점 차이가 조금씩 사라지고 있으며, 하나의 분야에서도 여러 세부분야에 따라 다양한 관점을 가진다. 때문에 아래의 관점은 그냥 회귀를 어떻게 바라볼 수 있는지에 대해서 참고용으로만 보자)\n",
    "\n",
    "**1) 통계 :** 통계는 데이터가 주어졌을 때, 모델링을 한 후 모수를 추정하거나 가설을 검정하고 이후 결과를 해석하는 과정이다. (모수 추정과 검정은 엄밀하게 다른 과정이다) 이를 회귀분석에 그대로 적용시키면, 통계학에서의 회귀는 함수 모델을 결정하고, 모수를 추정하거나, 회귀 함수가 유의한지 혹은 개별 회귀 계수가 유의한지 검정하는 과정에 포커스를 둔다.\n",
    "\n",
    "**2) 기계학습** : 기계학습은 지도학습(Supervised Learning)과 비지도학습(Unsupervised Learning)으로 나뉘며, 지도학습은 연속형 변수를 예측하는 회귀(Regression)와 범주형 변수를 예측하는 분류(Classification)으로 나뉜다. ML에서 회귀는 연속형 변수를 예측하는 방법론이고, 검정보다는 모델링과 성능 향상에 초점을 맞춘다.\n",
    "\n",
    "**3) 수학** : 회귀(와 더불어 supervised learning분야)는 결국 두 변수 사이의 관계를 가장 잘 나타내는 함수, 즉 최적 함수(Optimal Function)을 찾는 문제이다. 수학에서는 이 함수를 어떻게 찾을지, 혹은 해당 함수가 존재하는지 등에 관심을 가진다.\n",
    "\n",
    "**4) 사회과학** : 회귀분석의 이론적인 분석보다는 활용(Application)으로, 즉 데이터 사이의 관계를 분석하는 도구로 쓰인다."
   ]
  },
  {
   "cell_type": "markdown",
   "metadata": {},
   "source": [
    "## 4. 실제 활용 예시\n",
    "회귀는 결국 데이터의 변수들 사이에 있는 관계가 연속 함수(continuous function)라고 가정하고, 해당 함수의 모수를 추정하거나 모수에 대한 가설 검정을 수행하는 과정입니다. 아래의 코드에서는 회귀 중에서 가장 간단한 Simple Linear Regression, 즉 하나의 Dependent variable과 하나의 Independent variable의 선형 관계식을 추정을 수행하였습니다."
   ]
  },
  {
   "cell_type": "markdown",
   "metadata": {},
   "source": [
    "1) 랜덤으로 직선 y = 2x-1 에 근접한 점을 발생시키고, 이 점들을 fitting하면 어떠한 직선이 나오는지 확인해보는 코드입니다. 아래 코드에서는 sklearn의 LinearRegreession 패키지를 사용하였지만, 나중에는 직접 하드코딩하여 회귀분석을 진행해볼 예정입니다."
   ]
  },
  {
   "cell_type": "code",
   "execution_count": 1,
   "metadata": {},
   "outputs": [
    {
     "data": {
      "image/png": "[encoded data removed]",
      "text/plain": [
       "<Figure size 432x288 with 1 Axes>"
      ]
     },
     "metadata": {
      "needs_background": "light"
     },
     "output_type": "display_data"
    }
   ],
   "source": [
    "import numpy as np\n",
    "import matplotlib.pyplot as plt\n",
    "from sklearn.linear_model import LinearRegression\n",
    "\n",
    "x_start, x_fin = 0, 10\n",
    "\n",
    "# 근사적으로 y = 2x-1 을 따르는 데이터 발생시키기\n",
    "np.random.seed(0)\n",
    "n = 30\n",
    "x = np.linspace(x_start, x_fin, n)\n",
    "y = x*2 - 1 + 1*np.random.randn(n)\n",
    "\n",
    "model = LinearRegression(fit_intercept=True)\n",
    "model.fit(x[:,np.newaxis], y)\n",
    "xfit = np.linspace(x_start, x_fin, 100)\n",
    "yfit = model.predict(xfit[:, np.newaxis])\n",
    "\n",
    "plt.plot(xfit, yfit, color=\"blue\")\n",
    "plt.plot(x,y, 'o')\n",
    "plt.show()"
   ]
  },
  {
   "cell_type": "code",
   "execution_count": 4,
   "metadata": {},
   "outputs": [
    {
     "data": {
      "image/png": "[encoded data removed]",
      "text/plain": [
       "<Figure size 432x288 with 1 Axes>"
      ]
     },
     "metadata": {
      "needs_background": "light"
     },
     "output_type": "display_data"
    }
   ],
   "source": [
    "RESTAURANT_LOCATIONS = [\n",
    "  [2, 2], [5, 2], [10, 53], [30, 66], [59, 104], [104, 20], [150, 59], [142, 152], [30, 70], [25, 50],\n",
    "  [55,63],[643,632],[737,634],[603,402],[783,486],[750,693],[425,694],[364,964],[593,604],[968,593],\n",
    "  [602,603],[969,642],[536,405],[305,604],[359,604],[105,503],[983,593],[395,682],[993,1059],[592,604],\n",
    "  [2094,504],[2069,604],[2054,603],[2559,602],[2095,469],[1959,594],[2429,672],[930,205],[891,295],[2159,542],\n",
    "  [4950,4605],[4869,4650],[4800,4685],[4930,4592],[4869,4659],[4950,4522],[4796,4500],[3503,3035],[3596,3583],[3544,3250],\n",
    "  [3502,3342],[3529,3124], [3529, 3249], [3653, 3135], [3669, 3125], [3653, 3130], [3654, 3153], [3651, 3125], [3656, 3127],\n",
    "  [4264, 502],[4265,503],[4275,525],[4297,563],[4632,614],[4126,452],[4352,654],[4256,562],[4167,634],[4162,542],[4275,611],\n",
    "  [1062,3694],[1214,3699],[1152,3714],[1231,3671],[1160,3569],[1211,3671],[1079,3699],[1196,3651],[1296,3964],[1264,3546],\n",
    "  [1692,421],[1596,460],[1569,469],[1624,541],[1406,469],[1562,469],[1692,692],[1624,561],[1529,592],[1634,496],[1592,642],\n",
    "  [3402,4092],[3653,4105],[3592,4042],[3649,3950],[3624,3896],[3619,4105],[595,4029],[594,4012],[642,4291],[613,4168],[623,4196]\n",
    "]\n",
    "x = []\n",
    "y = []\n",
    "\n",
    "for i in RESTAURANT_LOCATIONS:\n",
    "    x.append(i[0])\n",
    "    y.append(i[1])\n",
    "    \n",
    "plt.plot(x,y,'o',color=\"red\")\n",
    "plt.show()"
   ]
  },
  {
   "cell_type": "markdown",
   "metadata": {},
   "source": [
    "2) 아래는 공부시간(Hours of Study)과 실제 시험 점수(Test Scores)간의 관계를 선형 모델로 회귀분석한 코드입니다. 공부를 많이 할수록 시험 점수가 높을 것이라는 예상과 동일하게 양의 기울기를 가진 선형 모델을 얻었습니다."
   ]
  },
  {
   "cell_type": "code",
   "execution_count": 15,
   "metadata": {},
   "outputs": [
    {
     "data": {
      "image/png": "[encoded data removed]",
      "text/plain": [
       "<Figure size 432x288 with 1 Axes>"
      ]
     },
     "metadata": {
      "needs_background": "light"
     },
     "output_type": "display_data"
    }
   ],
   "source": [
    "%matplotlib inline\n",
    "from IPython.display import HTML\n",
    "from numpy import *\n",
    "import matplotlib.pyplot as plt\n",
    "import urllib\n",
    "from sklearn.linear_model import LinearRegression\n",
    "\n",
    "#Datas from CC-MNNIT class\n",
    "urllib.request.urlretrieve(\"https://raw.githubusercontent.com/CC-MNNIT/2018-19-Classes/master/MachineLearning/2018_08_22_Logical-Rhythm-2/data.csv\", \"data.csv\")\n",
    "data = genfromtxt('data.csv', delimiter=',')\n",
    "\n",
    "#Extract Datas\n",
    "x = array(data[:,0])\n",
    "y = array(data[:,1])\n",
    "x_start = min(x)\n",
    "x_fin = max(x)\n",
    "\n",
    "#Fitting Regression Line\n",
    "model = LinearRegression(fit_intercept=True)\n",
    "model.fit(x[:,np.newaxis], y)\n",
    "xfit = np.linspace(x_start, x_fin, 100)\n",
    "yfit = model.predict(xfit[:, np.newaxis])\n",
    "\n",
    "#Plot the dataset\n",
    "plt.scatter(x,y)\n",
    "plt.xlabel('Hours of study')\n",
    "plt.ylabel('Test scores')\n",
    "plt.title('Dataset')\n",
    "plt.plot(xfit, yfit, color=\"blue\")\n",
    "plt.plot(x,y, 'o')\n",
    "\n",
    "plt.show()"
   ]
  },
  {
   "cell_type": "code",
   "execution_count": 1,
   "metadata": {},
   "outputs": [
    {
     "data": {
      "image/png": "[encoded data removed]",
      "text/plain": [
       "<Figure size 432x288 with 1 Axes>"
      ]
     },
     "metadata": {
      "needs_background": "light"
     },
     "output_type": "display_data"
    }
   ],
   "source": [
    "%matplotlib inline\n",
    "from IPython.display import HTML\n",
    "from numpy import *\n",
    "import numpy as np\n",
    "import pandas as pd\n",
    "import matplotlib.pyplot as plt\n",
    "import urllib\n",
    "from sklearn.linear_model import LinearRegression\n",
    "\n",
    "#Datas from CC-MNNIT class\n",
    "data = pd.read_csv('./hwpoints.csv')\n",
    "\n",
    "#Extract Datas\n",
    "X = data.iloc[:, 0]\n",
    "Y = data.iloc[:, 1]\n",
    "plt.scatter(X, Y)\n",
    "plt.show()"
   ]
  },
  {
   "cell_type": "code",
   "execution_count": 6,
   "metadata": {},
   "outputs": [
    {
     "name": "stdout",
     "output_type": "stream",
     "text": [
      "0.36650560058021203 -4.4769607662371005\n"
     ]
    }
   ],
   "source": [
    "m = 0\n",
    "c = 0\n",
    "\n",
    "L = 0.001  # The learning Rate\n",
    "epochs = 3000  # The number of iterations to perform gradient descent\n",
    "\n",
    "n = float(len(X)) # Number of elements in X\n",
    "\n",
    "# Performing Gradient Descent \n",
    "for i in range(epochs): \n",
    "    Y_pred = m*X + c  # The current predicted value of Y\n",
    "    D_m = (-2/n) * sum(X * (Y - Y_pred))  # Derivative wrt m\n",
    "    D_c = (-2/n) * sum(Y - Y_pred)  # Derivative wrt c\n",
    "    m = m - L * D_m  # Update m\n",
    "    c = c - L * D_c  # Update c\n",
    "    \n",
    "print (m, c)"
   ]
  },
  {
   "cell_type": "markdown",
   "metadata": {},
   "source": [
    "## 5. 회귀분석 수업 로드맵"
   ]
  },
  {
   "cell_type": "markdown",
   "metadata": {},
   "source": [
    "앞으로 진행될 수업 로드맵입니다! (계속 업데이트 될 예정입니다.)\n",
    "\n",
    "1) Regression Overview\n",
    "\n",
    "1-1) Introduction\n",
    "\n",
    "1-2) Regression Process Overview 1\n",
    "\n",
    "1-3) Regression Process Overview 2\n",
    "\n",
    "2) Linear Regression\n",
    "\n",
    "3) Logistic Regression\n",
    "\n",
    "4) Softmax Regression\n",
    "\n",
    "5) Overfitting & Underfitting\n",
    "\n",
    "6) Polynomial Regression\n",
    "\n",
    "7) Regression Spline"
   ]
  },
  {
   "cell_type": "code",
   "execution_count": null,
   "metadata": {},
   "outputs": [],
   "source": []
  }
 ],
 "metadata": {
  "kernelspec": {
   "display_name": "Python 3 (ipykernel)",
   "language": "python",
   "name": "python3"
  },
  "language_info": {
   "codemirror_mode": {
    "name": "ipython",
    "version": 3
   },
   "file_extension": ".py",
   "mimetype": "text/x-python",
   "name": "python",
   "nbconvert_exporter": "python",
   "pygments_lexer": "ipython3",
   "version": "3.8.11"
  }
 },
 "nbformat": 4,
 "nbformat_minor": 4
}
